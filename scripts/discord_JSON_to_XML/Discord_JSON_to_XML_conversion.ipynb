{
 "cells": [
  {
   "cell_type": "code",
   "execution_count": 1,
   "metadata": {},
   "outputs": [],
   "source": [
    "import pandas as pd\n",
    "import numpy as np"
   ]
  },
  {
   "cell_type": "code",
   "execution_count": 2,
   "metadata": {},
   "outputs": [],
   "source": [
    "#modify the JSON input file name to be converted as necessary\n",
    "#the below file is a sample\n",
    "\n",
    "import json\n",
    "with open('Discord Gophers-golang-Aug2020-Sep2020.json',encoding='utf8') as f:\n",
    "    data = json.load(f)"
   ]
  },
  {
   "cell_type": "code",
   "execution_count": 3,
   "metadata": {},
   "outputs": [],
   "source": [
    "#removing unnecessary information from the JSON\n",
    "\n",
    "if 'guild' in data:\n",
    "   del data['guild']\n",
    "if 'channel' in data:\n",
    "   del data['channel']\n",
    "if 'dateRange' in data:\n",
    "   del data['dateRange']\n",
    "if 'messageCount' in data:\n",
    "   del data['messageCount']"
   ]
  },
  {
   "cell_type": "code",
   "execution_count": 4,
   "metadata": {},
   "outputs": [
    {
     "name": "stdout",
     "output_type": "stream",
     "text": [
      "messages\n"
     ]
    }
   ],
   "source": [
    "for key in data.keys():\n",
    "    print (key)"
   ]
  },
  {
   "cell_type": "code",
   "execution_count": 5,
   "metadata": {},
   "outputs": [],
   "source": [
    "messages  = data['messages']"
   ]
  },
  {
   "cell_type": "code",
   "execution_count": 6,
   "metadata": {},
   "outputs": [],
   "source": [
    "x = str(messages[0]).split()"
   ]
  },
  {
   "cell_type": "code",
   "execution_count": 7,
   "metadata": {},
   "outputs": [],
   "source": [
    "#helper functions are as follow to extract user name, timestamp and message content\n",
    "\n",
    "def checkstrmsg(x,start,end):\n",
    "    final = []\n",
    "    stringnew = \"\"\n",
    "    msg = []\n",
    "    for z in range(start+1,end):\n",
    "        msg.append(x[z].strip(\",\\'\\\"\"))\n",
    "        stringnew = ' '.join(msg)\n",
    "    final.append(stringnew)\n",
    "    return final"
   ]
  },
  {
   "cell_type": "code",
   "execution_count": 8,
   "metadata": {},
   "outputs": [],
   "source": [
    "startlist = []\n",
    "endlist = []\n",
    "final = []\n",
    "msg = []\n",
    "finalcontent = []\n",
    "for i in range(0,len(messages)):\n",
    "    stringnew = \"\"\n",
    "    final = []\n",
    "    new = str(messages[i]).split()\n",
    "    targetindex = new.index(\"'attachments':\")\n",
    "    new = new[:targetindex]\n",
    "    \n",
    "    for i in range(0,len(new)):\n",
    "        if new[i] == \"'content':\": \n",
    "            linest = i\n",
    "              \n",
    "        if new[i] == \"'author':\" :\n",
    "            lineend = i\n",
    "    content = checkstrmsg(new,linest,lineend)\n",
    "    finalcontent.append(content)"
   ]
  },
  {
   "cell_type": "code",
   "execution_count": 9,
   "metadata": {},
   "outputs": [],
   "source": [
    "def checkname(x):\n",
    "    name = []\n",
    "    for i in range (0,len(x)):\n",
    "        if x[i] ==\"'author':\":\n",
    "            \n",
    "            name.append(x[i+4].strip(\",\\'\\\"\"))\n",
    "    return name"
   ]
  },
  {
   "cell_type": "code",
   "execution_count": 10,
   "metadata": {},
   "outputs": [],
   "source": [
    "def checkstrid(x):\n",
    "    id = []\n",
    "    for i in range(0,len(x)):\n",
    "        if 'id' in x[i] and x[i+2] == \"'type':\":\n",
    "            id.append(x[i+1].strip(\",\\'\\\"\"))\n",
    "    return id\n",
    "    "
   ]
  },
  {
   "cell_type": "code",
   "execution_count": 11,
   "metadata": {},
   "outputs": [],
   "source": [
    "def checkstrtimestamp(x):\n",
    "    tstmp = []\n",
    "    for i in range(0,len(x)):\n",
    "        if x[i] == \"'timestamp':\" and x[i+2] == \"'timestampEdited':\":\n",
    "            tstmp.append(x[i+1].strip(\",\\'\\\"\"))\n",
    "    return tstmp"
   ]
  },
  {
   "cell_type": "code",
   "execution_count": 12,
   "metadata": {},
   "outputs": [],
   "source": [
    "id = []\n",
    "names = []\n",
    "ts = []\n",
    "\n",
    "for i in range(0,len(messages)):\n",
    "    new = str(messages[i]).split()\n",
    "    targetindex = new.index(\"'attachments':\")\n",
    "    new = new[:targetindex]\n",
    "    data_id = checkstrid(new)\n",
    "    data_names = checkname(new)\n",
    "    data_ts = checkstrtimestamp(new)\n",
    "    id.append(data_id)\n",
    "    names.append(data_names)\n",
    "    ts.append(data_ts)"
   ]
  },
  {
   "cell_type": "code",
   "execution_count": 13,
   "metadata": {},
   "outputs": [
    {
     "name": "stdout",
     "output_type": "stream",
     "text": [
      "60262 60262 60262\n"
     ]
    }
   ],
   "source": [
    "print(len(id),len(names),len(ts))"
   ]
  },
  {
   "cell_type": "code",
   "execution_count": 14,
   "metadata": {},
   "outputs": [],
   "source": [
    "data_list = list(id)\n",
    "df = pd.DataFrame(data_list)\n",
    "data_list2 = list(ts)\n",
    "\n",
    "df2 = pd.DataFrame(ts)\n",
    "df3 = pd.DataFrame(finalcontent)\n",
    "df4 = pd.DataFrame(names)"
   ]
  },
  {
   "cell_type": "code",
   "execution_count": 15,
   "metadata": {},
   "outputs": [],
   "source": [
    "df = df.iloc[: , :1]\n",
    "df2 = df2.iloc[: , :1] \n",
    "df3 = df3.iloc[: , :1] \n",
    "df4 = df4.iloc[: , :1]"
   ]
  },
  {
   "cell_type": "code",
   "execution_count": 16,
   "metadata": {},
   "outputs": [],
   "source": [
    "dat2 = pd.concat([df2,df4,df3], axis=1)"
   ]
  },
  {
   "cell_type": "code",
   "execution_count": 17,
   "metadata": {},
   "outputs": [],
   "source": [
    "dat2.columns = [ 'ts' , 'user' , 'text']"
   ]
  },
  {
   "cell_type": "code",
   "execution_count": 18,
   "metadata": {},
   "outputs": [],
   "source": [
    "dat2['text'] = dat2['text'].str.replace('*','')\n",
    "dat2['text'] = dat2['text'].replace(r'\\\\n','', regex=True)\n",
    "dat2['text'] = dat2['text'].replace(r'-','', regex=True)\n",
    "dat2[\"ts\"] = dat2[\"ts\"].apply(lambda x: x.replace(\"+00:00\", \"\"))"
   ]
  },
  {
   "cell_type": "code",
   "execution_count": 19,
   "metadata": {},
   "outputs": [],
   "source": [
    "dat2['ts'] = pd.to_datetime(dat2['ts']).dt.strftime(\"%Y-%m-%dT%H:%M:%S.%f\")"
   ]
  },
  {
   "cell_type": "code",
   "execution_count": 20,
   "metadata": {},
   "outputs": [],
   "source": [
    "filterinfDataframe = dat2[(dat2['ts'] >= \"2020-08-01\") ] #add respective start date range"
   ]
  },
  {
   "cell_type": "code",
   "execution_count": 21,
   "metadata": {},
   "outputs": [],
   "source": [
    "filterinfDataframe = filterinfDataframe[(filterinfDataframe['ts']< \"2020-10-01\") ] #add respective end date range"
   ]
  },
  {
   "cell_type": "code",
   "execution_count": 22,
   "metadata": {},
   "outputs": [
    {
     "data": {
      "text/plain": [
       "ts      60079\n",
       "user    60079\n",
       "text    60079\n",
       "dtype: int64"
      ]
     },
     "execution_count": 22,
     "metadata": {},
     "output_type": "execute_result"
    }
   ],
   "source": [
    "filterinfDataframe.count()"
   ]
  },
  {
   "cell_type": "code",
   "execution_count": 23,
   "metadata": {},
   "outputs": [],
   "source": [
    "#changing the dataframe into dictionary\n",
    "\n",
    "dat2_2 = filterinfDataframe.to_dict('records')"
   ]
  },
  {
   "cell_type": "code",
   "execution_count": 24,
   "metadata": {},
   "outputs": [],
   "source": [
    "#making the dictionary into ordered dictionary to preserve the xml tag order\n",
    "\n",
    "from collections import OrderedDict\n",
    "def to_od(d):\n",
    "   if not isinstance(d, (dict, list)):\n",
    "      return d\n",
    "   if isinstance(d, list):\n",
    "       return list(map(to_od, d))\n",
    "   return OrderedDict({a:to_od(b) for a, b in d.items()})\n",
    "\n",
    "dat3 = to_od(dat2_2)"
   ]
  },
  {
   "cell_type": "code",
   "execution_count": 25,
   "metadata": {},
   "outputs": [],
   "source": [
    "# modify the respective temp file name as necessary\n",
    "\n",
    "from dict2xml import dict2xml\n",
    "xml = dict2xml(dat3, wrap ='message', indent =\"  \")\n",
    "f = open('golang_Aug2020-Sep2020temp.xml','w', encoding='utf8')\n",
    "print(xml,file=f)"
   ]
  },
  {
   "cell_type": "code",
   "execution_count": 26,
   "metadata": {},
   "outputs": [],
   "source": [
    "# modify the respective temp file name as necessary\n",
    "\n",
    "with open('golang_Aug2020-Sep2020temp.xml', 'r',encoding='utf8') as f:\n",
    "    data = f.read()\n",
    "\n",
    "with open('root.xml', 'w',encoding='utf8') as f:\n",
    "    f.write(\"<discord>\\n\" + data + \"</discord>\")\n",
    "    f.close()"
   ]
  },
  {
   "cell_type": "code",
   "execution_count": 27,
   "metadata": {},
   "outputs": [],
   "source": [
    "#Script to add the xml file info at the start\n",
    "\n",
    "import xml.etree.ElementTree as ET\n",
    "with open('root.xml', 'r', encoding='utf-8') as f:\n",
    "    content = f.read()\n",
    "root = ET.fromstring(content)\n",
    "\n",
    "for message in root.findall('message'):\n",
    "    last = root[-1]\n",
    "    first = root[0]\n",
    "    tsfirst = first.find('ts').text\n",
    "    tslast = last.find('ts').text"
   ]
  },
  {
   "cell_type": "code",
   "execution_count": 28,
   "metadata": {},
   "outputs": [],
   "source": [
    "# modify the respective temp file name as necessary\n",
    "\n",
    "with open('golang_Aug2020-Sep2020temp.xml', 'r',encoding='utf8') as f:\n",
    "    data = f.read()\n",
    "\n",
    "with open('golang_Aug2020-Sep2020temp.xml', 'w',encoding='utf8') as f:\n",
    "    f.write(\"<team_domain>Discord Gophers</team_domain>\\n\" + \"<channel_name>golang</channel_name>\\n\" +\n",
    "            \"<start_date>\"+tsfirst+\"</start_date>\\n\" + \"<end_date>\"+tslast+\"</end_date>\\n\" \n",
    "            + data)\n",
    "    f.close()"
   ]
  },
  {
   "cell_type": "code",
   "execution_count": 29,
   "metadata": {},
   "outputs": [],
   "source": [
    "# modify the respective temp file name as necessary\n",
    "\n",
    "with open('golang_Aug2020-Sep2020temp.xml', 'r',encoding='utf8') as f:\n",
    "    data = f.read()\n",
    "\n",
    "with open('golang_Aug2020-Sep2020temp.xml', 'w',encoding='utf8') as f:\n",
    "    f.write(\"<discord>\\n\" + data + \"</discord>\")\n",
    "    f.close()"
   ]
  },
  {
   "cell_type": "code",
   "execution_count": 30,
   "metadata": {},
   "outputs": [
    {
     "name": "stderr",
     "output_type": "stream",
     "text": [
      "Total messages: 60079\n",
      "\n"
     ]
    }
   ],
   "source": [
    "#script to anonymize user name for privacy purposes\n",
    "# modify the respective temp file and final xml file names as necessary\n",
    "\n",
    "import xml.etree.ElementTree as ET\n",
    "import sys\n",
    "import re\n",
    "from random import shuffle\n",
    "from datetime import datetime\n",
    "\n",
    "\n",
    "def replaceMentions(text, aliasDict):\n",
    "    text = str(text)\n",
    "    mentionPattern = '<@U\\w+>'\n",
    "    while re.search(mentionPattern,text):\n",
    "        indexStart = re.search(mentionPattern,text).span()[0]\n",
    "        indexEnd = re.search(mentionPattern,text).span()[1]\n",
    "        mentionName = text[indexStart+2:indexEnd-1]\n",
    "        try:\n",
    "            mentionAlias = aliasDict[mentionName]\n",
    "        except KeyError:\n",
    "            aliasDict[mentionName] = names.pop()\n",
    "            mentionAlias = aliasDict[mentionName]\n",
    "        text = text[:indexStart] + \"<@\" + mentionAlias + \">\"+ text[indexEnd:]\n",
    "    return text\n",
    "\n",
    "names_file = 'names.txt'\n",
    "original_chat = 'golang_Aug2020-Sep2020temp.xml'\n",
    "output_fname = 'golang_Aug2020-Sep2020.xml'\n",
    "\n",
    "\n",
    "names = []\n",
    "with open(names_file, 'r') as f:\n",
    "    names = [x.rstrip().title() for x in f.readlines()]\n",
    "shuffle(names)\n",
    "aliasDict = {}\n",
    "\n",
    "with open(original_chat, 'r', encoding='utf-8') as f:\n",
    "    content = f.read()\n",
    "root = ET.fromstring(content)\n",
    "\n",
    "# first 4 elements are the team, channel, start date/time, and end date/time\n",
    "info = root[:4]\n",
    "nodes = root[4:]\n",
    "\n",
    "# format input\n",
    "TSfmt = '%Y-%m-%dT%H:%M:%S.%f'\t# 24-hour time format\n",
    "starttime = datetime.strptime(nodes[0][0].text, TSfmt)\n",
    "outputStr = \"\"\n",
    "print(\"Total messages: \" + str(len(nodes)) + \"\\n\", file=sys.stderr)\n",
    "for node in nodes:\n",
    "    timestamp = node[0].text\n",
    "    tdelta = datetime.strptime(timestamp, TSfmt) - starttime\n",
    "    secondsFromStart = round(tdelta.total_seconds())\n",
    "\n",
    "    user = node[1].text\n",
    "    text = node[-1].text\n",
    "\n",
    "    alias = user\n",
    "    try:\n",
    "        alias = aliasDict[user]\n",
    "    except KeyError:\n",
    "        aliasDict[user] = names.pop()\n",
    "        alias = aliasDict[user]\n",
    "\n",
    "    node[1].text = alias\n",
    "    node[-1].text = replaceMentions(text,aliasDict)\n",
    "\n",
    "\n",
    "with open(output_fname, 'w',encoding=\"utf-8\") as f:\n",
    "    f.write(ET.tostring(root,encoding=\"utf-8\",method=\"xml\").decode('utf-8'))"
   ]
  },
  {
   "cell_type": "code",
   "execution_count": null,
   "metadata": {},
   "outputs": [],
   "source": []
  }
 ],
 "metadata": {
  "kernelspec": {
   "display_name": "Python 3",
   "language": "python",
   "name": "python3"
  },
  "language_info": {
   "codemirror_mode": {
    "name": "ipython",
    "version": 3
   },
   "file_extension": ".py",
   "mimetype": "text/x-python",
   "name": "python",
   "nbconvert_exporter": "python",
   "pygments_lexer": "ipython3",
   "version": "3.8.3"
  }
 },
 "nbformat": 4,
 "nbformat_minor": 4
}
